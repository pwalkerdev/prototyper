{
 "cells": [
  {
   "cell_type": "markdown",
   "metadata": {},
   "source": [
    "Low Hanging Fruit 🍎\n",
    "- **FINISH WRITING THE README!**\n",
    "- Add a configuration page, some ideas for settings:\n",
    "    - Terminal command delay thingo\n",
    "    - If terminal instances are transient\n",
    "    - Hide/Show script in terminal\n",
    "- Add time taken to compile statistic\n",
    "- Show result type as well as result value\n",
    "- Configure a hotkey to run the command"
   ]
  }
 ],
 "metadata": {
  "language_info": {
   "name": "python"
  }
 },
 "nbformat": 4,
 "nbformat_minor": 2
}
