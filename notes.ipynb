{
 "cells": [
  {
   "cell_type": "markdown",
   "metadata": {},
   "source": [
    "🍊 Low Hanging Fruit 🍎  \n",
    "\n",
    "- ⬜ **FINISH WRITING THE README!**\n",
    "- ⬜ Add a configuration page, some ideas for settings:\n",
    "    - ⬜ Terminal command delay thingo\n",
    "    - ⬜ If terminal instances are transient\n",
    "    - ⬜ Hide/Show script in terminal\n",
    "    - ⬜ Target .NET SDK version\n",
    "- ⬜ Add time taken to compile statistic\n",
    "- ⬜ Show result type as well as result value\n",
    "- ⬜ Configure a hotkey to run the command\n",
    "- ⬜ Congigure a hotkey to open a new script (pre-populated with expression body or method syntax)\n",
    "- ⬜ Prevent headless invocations from being added to powershell command history"
   ]
  }
 ],
 "metadata": {
  "language_info": {
   "name": "python"
  }
 },
 "nbformat": 4,
 "nbformat_minor": 2
}
